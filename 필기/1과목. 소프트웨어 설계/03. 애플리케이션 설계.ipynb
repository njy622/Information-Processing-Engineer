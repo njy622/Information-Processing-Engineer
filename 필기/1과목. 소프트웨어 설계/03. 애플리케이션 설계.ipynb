{
 "cells": [
  {
   "cell_type": "markdown",
   "metadata": {},
   "source": [
    "# 1과목. 소프트웨어 설계\n",
    "\n",
    "## 3장 애플리케이션 설계\n"
   ]
  },
  {
   "cell_type": "markdown",
   "metadata": {},
   "source": [
    "<h2 style=\"color:MediumSeaGreen;\"><strong>Section 16. 소프트웨어 아키텍처</strong></h2>\n",
    "<hr>\n",
    "<br>\n",
    "\n",
    "### 1) 상위 설계와 하위 설계\n",
    "\n",
    "<table class=\"table\" style=\"text-align:center;\">\n",
    "<thead>\n",
    "<tr>\n",
    "<th width=\"20%\" style=\"text-align:center;\"></th>\n",
    "<th width=\"40%\" style=\"text-align:center;\">상위 설계</th>\n",
    "<th width=\"40%\" style=\"text-align:center;\">하위 설계</th>\n",
    "</tr>\n",
    "</thead>\n",
    "<tbody>\n",
    "<tr>\n",
    "<td>별칭</td>\n",
    "<td>아키텍처 설계, 예비 설계</td>\n",
    "<td>모든 설계, 상세 설계</td>\n",
    "</tr>\n",
    "<tr>\n",
    "<td>설계 대상</td>\n",
    "<td>시스템의 전체적인 구조</td>\n",
    "<td>시스템의 내부 구조 및 행위</td>\n",
    "</tr>\n",
    "<tr>\n",
    "<td>세부 목록</td>\n",
    "<td>구조, DB, 인터페이스</td>\n",
    "<td>컴포넌트, 자료 구조, 알고리즘</td>\n",
    "</tr>\n",
    "</tbody>\n",
    "</table>"
   ]
  },
  {
   "cell_type": "markdown",
   "metadata": {},
   "source": [
    "### 2) 모듈화\n",
    "- 소프트웨어의 성능을 향상시키거나 시스템의 수정 및 재사용, 유지 관리 등이 용이하도록 시스템의 기능들을 모듈 단위로 나누는 것을 의미한다.\n",
    "- 모듈화를 통해 기능의 분리가 가능하여 인터페이스가 단순해진다.\n",
    "- 모듈화를 통해 프로그램의 효율적인 관리가 가능하고 오류의 파급 효과를 최소화할 수 있다.\n",
    "- 모듈의 크기를 너무 작게 나누면 개수가 ㅁ낳아져 모듈 간의 통합 비용이 많이 들고, 너무 크게 나누면 개수가 적어 통합 비용은 적게 들지만 모듈 하나의 개발 비용이 많이 든다."
   ]
  },
  {
   "cell_type": "markdown",
   "metadata": {},
   "source": [
    "### 3) 추상화의 유형\n",
    "- 과정 추상화\n",
    "- 데이터(자료) 추상화\n",
    "- 제어 추상화"
   ]
  },
  {
   "cell_type": "markdown",
   "metadata": {},
   "source": [
    "### 4) 정보 은닉\n",
    "- 한 모듈 내부에 포함된 절차와 자료들의 정보가 감추어져 다른 모듈이 접근하거나 변경하지 못하도록 하는 기법이다.\n",
    "- 어떤 모듈이 소프트웨어 기능을 수행하는데 반드시 필요한 기능이 있어 정보 은닉된 모듈과 커뮤니케이션할 필요가 있을 때는 필요한 정보만 인터페이스를  통해 주고 받는다.\n",
    "- 정보 은닉을 통해 모듈을 독립적으로 수행할 수 있고, 하나의 모듈이 변경되더라도 다른 모듈에 영향을 주지 않으므로 수정, 시험, 유지보수가 용이하다."
   ]
  },
  {
   "cell_type": "markdown",
   "metadata": {},
   "source": [
    "### 5) 소프트웨어 아키텍처의 설계 과정\n",
    "- 설계 목표 설정 → 시스템 타입 결정 → 아키텍처 패턴 적용 → 서브시스템 구체화 → 검토"
   ]
  },
  {
   "cell_type": "markdown",
   "metadata": {},
   "source": [
    "<h2 style=\"color:MediumSeaGreen;\"><strong>Section 17. 아키텍처 패턴</strong></h2>\n",
    "<hr>\n",
    "<br>\n",
    "\n",
    "### 1) 파이프-필터 패턴\n",
    "- 데이터 스트림 절차의 각 단계를 필터(Filter) 컴포넌트로 캡슐화하여 파이프(Pipe)를 통해 데이터를 전송하는 패턴이다.\n",
    "- 필터 간 데이터 이동 시 데이터 변환으로 인한 오버헤드가 발생한다."
   ]
  },
  {
   "cell_type": "markdown",
   "metadata": {},
   "source": [
    "### 2) MVC (Model-View-Controller) 패턴\n",
    "- 모델(Model)\n",
    "    - 서브시스템의 핵심 기능과 데이터를 보관함\n",
    "    \n",
    "- 뷰(View)\n",
    "    - 사용자에게 정보를 표시함\n",
    "\n",
    "- 컨트롤러(Controller)\n",
    "    - 사용자로부터 입력된 변경요청을 처리하기 위해 모델에게 명령을 보냄"
   ]
  },
  {
   "cell_type": "markdown",
   "metadata": {},
   "source": [
    "### 3) 마스터 슬레이브 패턴\n",
    "- 동일한 구조의 슬레이브 컴포넌트로 작업을 분할한 후, 슬레이브 컴포넌트에서 처리된 결과물을 다시 돌려받는 방식으로 작업을 수행하는 패턴이다.\n",
    "- 마스터 컴포넌트는 모든 작업의 주체이고, 슬레이브 컴포넌트는 마스터 컴포넌트의 지시에 따라 작업을 수행하여 결과를 반환한다.\n",
    "- 장애 허용 시스템과 병렬 컴퓨팅 시스템에서 주로 활용된다."
   ]
  },
  {
   "cell_type": "markdown",
   "metadata": {},
   "source": [
    "<h2 style=\"color:MediumSeaGreen;\"><strong>Section 18. 객체지향(Object-Oriented)</strong></h2>\n",
    "<hr>\n",
    "<br>\n",
    "\n",
    "### 1) 객체(Object)\n",
    "- 데이터와 데이터를 처리하는 함수를 묶어 놓은 (캡슐화한) 하나의 소프트웨어 모듈이다."
   ]
  },
  {
   "cell_type": "markdown",
   "metadata": {},
   "source": [
    "### 2) 메세지(Message)\n",
    "- 객체들 간에 상호작용을 하는데 사용되는 수단으로, 객체에게 어떤 행위를 하도록 지시하는 명령 또는 요구사항이다."
   ]
  },
  {
   "cell_type": "markdown",
   "metadata": {},
   "source": [
    "### 3) 클래스(Class)\n",
    "- 공통된 속성과 연산(행위)을 갖는 객체의 집합으로, 객체의 일반적인 타입(Type)을 의미한다.\n",
    "- 클래스에 속한 각각의 객체를 인스턴스(Instance)라 한다."
   ]
  },
  {
   "cell_type": "markdown",
   "metadata": {},
   "source": [
    "### 4) 캡슐화(Encapsulation)\n",
    "- 데이터(속성)와 데이터를 처리하는 함수를 하나로 묶는 것을 의미한다.\n",
    "- 캡슐화된 객체는 외부 모듈의 변경으로 인한 파급 효과가 적다.\n",
    "- 캡슐화를 수행하면 인터페이스가 단순화된다.\n",
    "- 캡슐화된 객체들은 재상용이 용이하다."
   ]
  },
  {
   "cell_type": "markdown",
   "metadata": {},
   "source": [
    "### 상속(Inheritance)\n",
    "- 이미 정의된 상위 클래스(부모 클래스)의 모든 속성과 연산을 하위 클래스(자식 클래스)가 물려받는 것이다."
   ]
  },
  {
   "cell_type": "markdown",
   "metadata": {},
   "source": [
    "### 다형성(Polymorphism)\n",
    "- 메세지에 의해 객체(클래스)가 연산을 수행하게 될 때 하나의 메세지에 대해 각각의 객체(클래스)가 가지고 있는 고유한 방법으로 응답할 수 있는 능력을 의미한다.\n",
    "    - 예1) 오버로딩(Overloading) 기능의 경우 메소드(Method)의 이름은 같지만 인수를 받는 자료형과 개수를 달리하여 여러 기능을 정희할 수 있따.\n",
    "    - 예2) 오버라이딩(Overriding, 메소드 재정의) 기능의 경우 상위 클래스에서 정의한 메소드(Method)와 이름은 같지만 메소드 안의 실행 코드를 달리하여 자식클래스에서 재정의해서 사용할 수 있다."
   ]
  },
  {
   "cell_type": "markdown",
   "metadata": {},
   "source": [
    "<h2 style=\"color:MediumSeaGreen;\"><strong>Section 19. 객체지향 분석 및 설계</strong></h2>\n",
    "<hr>\n",
    "<br>\n",
    "\n",
    "### 1) 객체지향 분석 방법론 - Coad와 Yourdon 방법\n",
    "- E-R 다이어그램을 사용하여 객체의 행위를 모델링하며, 객체 식별, 구조 식별, 주제 정의, 속성과 인스턴스 연결 정의, 연산과 메세지 연결 정의 등의 과정으로 구성하는 기법이다."
   ]
  },
  {
   "cell_type": "markdown",
   "metadata": {},
   "source": [
    "### 2) 럼바우(Rumbaugh)의 분석 기법\n",
    "- 객체(Object) 모델링: 정보 모델링이라고도 하며, 시스템에서 요구되는 객체를 찾아내어 속성과 연산 식별 및 객체들 간의 관계를 규정하여 객체 다이어그램으로 표시하는 것\n",
    "- 동적(Dynamic) 모델링: 상태 다이어그램(상태도)을 이용하여 시간의 흐름에 따른 객체들 간의 제어 흐름, 상호작용, 동작 순서 등의 동적인 행위를 표현하는 모델링\n",
    "- 기능(Functional) 모델링: 자료 흐름도(DFD)를 이용하여 다수의 프로세스들 간의 자료 흐름을 중심으로 처리 과정을 표현한 모델링 "
   ]
  },
  {
   "cell_type": "markdown",
   "metadata": {},
   "source": []
  }
 ],
 "metadata": {
  "language_info": {
   "name": "python"
  }
 },
 "nbformat": 4,
 "nbformat_minor": 2
}
