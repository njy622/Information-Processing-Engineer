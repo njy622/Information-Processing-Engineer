{
 "cells": [
  {
   "cell_type": "markdown",
   "metadata": {},
   "source": [
    "# 1과목. 소프트웨어 설계\n",
    "\n",
    "## 3장 애플리케이션 설계\n"
   ]
  },
  {
   "cell_type": "markdown",
   "metadata": {},
   "source": [
    "<h2 style=\"color:MediumSeaGreen;\"><strong>Section 16. 소프트웨어 아키텍처</strong></h2>\n",
    "<hr>\n",
    "<br>\n",
    "\n",
    "### 1) 상위 설계와 하위 설계\n",
    "\n",
    "<table class=\"table\" style=\"text-align:center;\">\n",
    "<thead>\n",
    "<tr>\n",
    "<th width=\"20%\" style=\"text-align:center;\"></th>\n",
    "<th width=\"40%\" style=\"text-align:center;\">상위 설계</th>\n",
    "<th width=\"40%\" style=\"text-align:center;\">하위 설계</th>\n",
    "</tr>\n",
    "</thead>\n",
    "<tbody>\n",
    "<tr>\n",
    "<td>별칭</td>\n",
    "<td>아키텍처 설계, 예비 설계</td>\n",
    "<td>모든 설계, 상세 설계</td>\n",
    "</tr>\n",
    "<tr>\n",
    "<td>설계 대상</td>\n",
    "<td>시스템의 전체적인 구조</td>\n",
    "<td>시스템의 내부 구조 및 행위</td>\n",
    "</tr>\n",
    "<tr>\n",
    "<td>세부 목록</td>\n",
    "<td>구조, DB, 인터페이스</td>\n",
    "<td>컴포넌트, 자료 구조, 알고리즘</td>\n",
    "</tr>\n",
    "</tbody>\n",
    "</table>"
   ]
  },
  {
   "cell_type": "markdown",
   "metadata": {},
   "source": [
    "### 2) 모듈화\n",
    "- 소프트웨어의 성능을 향상시키거나 시스템의 수정 및 재사용, 유지 관리 등이 용이하도록 시스템의 기능들을 모듈 단위로 나누는 것을 의미한다.\n",
    "- 모듈화를 통해 기능의 분리가 가능하여 인터페이스가 단순해진다.\n",
    "- 모듈화를 통해 프로그램의 효율적인 관리가 가능하고 오류의 파급 효과를 최소화할 수 있다.\n",
    "- 모듈의 크기를 너무 작게 나누면 개수가 ㅁ낳아져 모듈 간의 통합 비용이 많이 들고, 너무 크게 나누면 개수가 적어 통합 비용은 적게 들지만 모듈 하나의 개발 비용이 많이 든다."
   ]
  },
  {
   "cell_type": "markdown",
   "metadata": {},
   "source": [
    "### 3) 추상화의 유형\n",
    "- 과정 추상화\n",
    "- 데이터(자료) 추상화\n",
    "- 제어 추상화"
   ]
  },
  {
   "cell_type": "markdown",
   "metadata": {},
   "source": [
    "### 4) 정보 은닉\n",
    "- 한 모듈 내부에 포함된 절차와 자료들의 정보가 감추어져 다른 모듈이 접근하거나 변경하지 못하도록 하는 기법이다.\n",
    "- 어떤 모듈이 소프트웨어 기능을 수행하는데 반드시 필요한 기능이 있어 정보 은닉된 모듈과 커뮤니케이션할 필요가 있을 때는 필요한 정보만 인터페이스를  통해 주고 받는다.\n",
    "- 정보 은닉을 통해 모듈을 독립적으로 수행할 수 있고, 하나의 모듈이 변경되더라도 다른 모듈에 영향을 주지 않으므로 수정, 시험, 유지보수가 용이하다."
   ]
  },
  {
   "cell_type": "markdown",
   "metadata": {},
   "source": [
    "### 5) 소프트웨어 아키텍처의 설계 과정\n",
    "- 설계 목표 설정 → 시스템 타입 결정 → 아키텍처 패턴 적용 → 서브시스템 구체화 → 검토"
   ]
  },
  {
   "cell_type": "markdown",
   "metadata": {},
   "source": [
    "<h2 style=\"color:MediumSeaGreen;\"><strong>Section 17. 아키텍처 패턴</strong></h2>\n",
    "<hr>\n",
    "<br>\n",
    "\n",
    "### 1) 파이프-필터 패턴\n",
    "- 데이터 스트림 절차의 각 단계를 필터(Filter) 컴포넌트로 캡슐화하여 파이프(Pipe)를 통해 데이터를 전송하는 패턴이다.\n",
    "- 필터 간 데이터 이동 시 데이터 변환으로 인한 오버헤드가 발생한다."
   ]
  },
  {
   "cell_type": "markdown",
   "metadata": {},
   "source": [
    "### 2) MVC (Model-View-Controller) 패턴\n",
    "- 모델(Model)\n",
    "    - 서브시스템의 핵심 기능과 데이터를 보관함\n",
    "    \n",
    "- 뷰(View)\n",
    "    - 사용자에게 정보를 표시함\n",
    "\n",
    "- 컨트롤러(Controller)\n",
    "    - 사용자로부터 입력된 변경요청을 처리하기 위해 모델에게 명령을 보냄"
   ]
  },
  {
   "cell_type": "markdown",
   "metadata": {},
   "source": [
    "### 3) 마스터 슬레이브 패턴\n",
    "- 동일한 구조의 슬레이브 컴포넌트로 작업을 분할한 후, 슬레이브 컴포넌트에서 처리된 결과물을 다시 돌려받는 방식으로 작업을 수행하는 패턴이다.\n",
    "- 마스터 컴포넌트는 모든 작업의 주체이고, 슬레이브 컴포넌트는 마스터 컴포넌트의 지시에 따라 작업을 수행하여 결과를 반환한다.\n",
    "- 장애 허용 시스템과 병렬 컴퓨팅 시스템에서 주로 활용된다."
   ]
  },
  {
   "cell_type": "markdown",
   "metadata": {},
   "source": [
    "<h2 style=\"color:MediumSeaGreen;\"><strong>Section 18. 객체지향(Object-Oriented)</strong></h2>\n",
    "<hr>\n",
    "<br>\n",
    "\n",
    "### 1) 객체(Object)\n",
    "- 데이터와 데이터를 처리하는 함수를 묶어 놓은 (캡슐화한) 하나의 소프트웨어 모듈이다."
   ]
  },
  {
   "cell_type": "markdown",
   "metadata": {},
   "source": []
  }
 ],
 "metadata": {
  "language_info": {
   "name": "python"
  }
 },
 "nbformat": 4,
 "nbformat_minor": 2
}
