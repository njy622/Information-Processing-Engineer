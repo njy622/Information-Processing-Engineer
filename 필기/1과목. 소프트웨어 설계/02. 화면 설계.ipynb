{
 "cells": [
  {
   "cell_type": "markdown",
   "metadata": {},
   "source": [
    "# 1과목. 소프트웨어 설계\n",
    "\n",
    "## 2장 사용자 인터페이스\n"
   ]
  },
  {
   "cell_type": "markdown",
   "metadata": {},
   "source": [
    "<h2 style=\"color:MediumSeaGreen;\"><strong>Section 11. 사용자 인터페이스</strong></h2>\n",
    "<hr>\n",
    "<br>\n",
    "\n",
    "### 1) 인터페이스(Interface)\n",
    "- 서로 다른 두 시스템이나 소프트웨어 등을 서로 이어주는 부분 또는 접속 장치를 의미한다."
   ]
  },
  {
   "cell_type": "markdown",
   "metadata": {},
   "source": [
    "### 2) 사용자 인터페이스(UI)의 특징\n",
    "- 사용자의 편리성과 가독성을 높임으로써 작업 시간을 단축시키고 업무에 대한 이해도를 높여준다.\n",
    "- 최소한의 노력으로 원하는 결과를 얻을 수 있게 한다.\n",
    "- 사용자 중심으로 설계되어 사용자 중심의 상호 작용이 되도록 한다.\n",
    "- 수행 결과의 오류를 줄인다.\n",
    "- 사용자의 막연한 작업 기능에 대해 구체적인 방법을 제시해 준다."
   ]
  },
  {
   "cell_type": "markdown",
   "metadata": {},
   "source": [
    "### 3) 사용자 인터페이스의 구분\n",
    "- CLI (Command Line Interface)\n",
    "    - 명령과 출력이 텍스트 형태로 이뤄지는 인터페이스\n",
    "\n",
    "- GUI (Graphical User Interface)\n",
    "    - 아이콘이나 메뉴를  마우스로 선택하여 작억을 수행하는 그래픽 환경의 인터페이스\n",
    "\n",
    "- NUI (Natural User Interface)\n",
    "    - 사용자의 말이나 행동으로 기기를 조작하는 인터페이스"
   ]
  },
  {
   "cell_type": "markdown",
   "metadata": {},
   "source": [
    "### 4) 주요 모바일 제스처 (Mobile Gesture)\n",
    "- Tap(누르기)\n",
    "    - 화면을 가볍게 한 번 터치하는 동작\n",
    "\n",
    "- Double Tap(두번 누르기)\n",
    "    - 화면을 빠르게 두 번 터치하는 동작\n",
    "\n",
    "- Press(오래 누리기)\n",
    "    - 화면의 특정 위치를 손가락으로 꾹 누르는 동작\n",
    "\n",
    "- Fick(빠르게 스크롤)\n",
    "    - 화면에 손가락을 터치하면서 수평 또는 수직으로 빠르게 드래그하는 동작\n",
    "\n",
    "- Pinch(두 손가락으로 넓히기/좁히기)\n",
    "    - 두 손가락으로 화면을 터치한 후 두 손가락을 서로 다른 방향으로 움직이는 동작"
   ]
  },
  {
   "cell_type": "markdown",
   "metadata": {},
   "source": [
    "### 5) 사용자 인터페이스의 기본 원칙\n",
    "- 직관성\n",
    "    - 누구나 쉽게 이해하고 사용할 수 있어야 함\n",
    "\n",
    "- 유효성\n",
    "    - 사용자의 목적을 정확하고 완벽하게 달성해야 함\n",
    "\n",
    "- 학습성\n",
    "    - 누구나 쉽게 배우고 익힐 수 있어야 함\n",
    "\n",
    "- 유연성\n",
    "    - 사용자의 요구사항을 최대한 수용하고 실수를 최소화해야 함"
   ]
  },
  {
   "cell_type": "markdown",
   "metadata": {},
   "source": [
    "### 6) 사용자 인터페이스의 설계 지침\n",
    "- 사용자 중심\n",
    "    - 사용자가 쉽게 이해하고 편리하게 사용할 수 있는 환경을 제공하며, 실사용자에 대한 이해가 바탕이 되어야 함\n",
    "\n",
    "- 사용성\n",
    "    - 사용자가 소프트웨어를 얼마나 빠르고 쉽게 이해할 수 있는지, 얼마나 편리하고 효율적으로 사용할 수 있는지를 말하는 것으로 사용자 인터페이스 설계 시 가장 우선적으로 고려해야 함\n",
    "\n",
    "- 심미성\n",
    "    - 디자인적으로 완성도 높게 글꼴이나 색상을 적용하고 그래픽 요소를 배치하여 가독성을 높일 수 있도록 설계해야 함\n",
    "\n",
    "- 오류 발생 해결\n",
    "    - 오류가 발생하면 사용자가 쉽게 인지할 수 있도록 설계해야 함"
   ]
  },
  {
   "cell_type": "markdown",
   "metadata": {},
   "source": [
    "### 7) 사용자 인터페이스 개발 시스템의 기능\n",
    "- 사용자의 입력을 검증할 수 있어야 한다.\n",
    "- 에러 처리와 그와 관련된 에러 메세지를 표시할 수 있어야 한다.\n",
    "- 도움과 프롬프트(Prompt)를 제공해야 한다."
   ]
  },
  {
   "cell_type": "markdown",
   "metadata": {},
   "source": [
    "<h2 style=\"color:MediumSeaGreen;\"><strong>Section 12. UI 설계 도구</strong></h2>\n",
    "<hr>\n",
    "<br>\n",
    "\n",
    "### 1) 와이어프레임\n",
    "- 기획 단계의 초기에 제작 하는 것으로, 페이지에 대한 개략적인 레이아웃이나 UI 요소 등에 대한 뼈대를 설계하는 단계이다."
   ]
  },
  {
   "cell_type": "markdown",
   "metadata": {},
   "source": [
    "### 2) 목업 (Mockup)\n",
    "- 디자인, 사용 방법 설명, 평가 등을 위해 와이어프레임보다 좀 더 실제 화면과 유사하게 만든 정적인 형태의 모형이다.\n",
    "- 시각적으로만 구성 요소를 배치하는 것으로 실제로 구현되지는 않는다.\n",
    "- 목업툴\n",
    "    - 파워 목업, 발사믹 목업 등"
   ]
  },
  {
   "cell_type": "markdown",
   "metadata": {},
   "source": [
    "### 3) 유스케이스(Use Case)\n",
    "- 사용자 측면에서의 요구사항으로, 사용자가 원하는 목표를 달성하기 위해 수행할 내용을 기술한다.\n",
    "- 사용자의 요구사항을 빠르게 파악함으로써 프로젝트의 초기에 시스템의 기능적인 요구를 결정하고 그 결과를 문서화할 수 있다.\n",
    "- 유스케이스는 자연어로 작성된 사용자의 요구사항을 구조적으로 표현한 것으로, 일반적으로 다이어그램 형식으로 묘사된다.\n",
    "- 유스케이스 다이어그램이 완성되면 각각의 유스케이스에 대해 유스케이스 명세서를 작성한다."
   ]
  },
  {
   "cell_type": "markdown",
   "metadata": {},
   "source": [
    "<h2 style=\"color:MediumSeaGreen;\"><strong>Section 13. 품질요구사항</strong></h2>\n",
    "<hr>\n",
    "<br>\n",
    "\n",
    "### 1) ISO/IEC 12119\n",
    "- ISO/IEC 9126을 준수한 품질 표준이다.\n",
    "- 테스트 절차를 포함하여 규정한다."
   ]
  },
  {
   "cell_type": "markdown",
   "metadata": {},
   "source": [
    "### 2) 기능성(Functionality)\n",
    "- 소프트웨어가 사용자의 요구사항을 정확하게 만족하는 기능을 제공하는지 여부를 나타낸다.\n",
    "- 하위 특성\n",
    "    - 적절성/적합성, 정밀성/정확성, 상호 운용성, 보안성, 준수성\n"
   ]
  },
  {
   "cell_type": "markdown",
   "metadata": {},
   "source": [
    "### 3) 신뢰성(Reliacbility)\n",
    "- 소프트웨어가 요구된 기능을 정확하고 일관되게 오류 없이 수행할 수 있는 정도를 나타낸다."
   ]
  },
  {
   "cell_type": "markdown",
   "metadata": {},
   "source": [
    "### 4) 사용성(Usability)\n",
    "- 사용자와 컴퓨터 사이에 발생하는 어떠한 행위에 대하여 사용자가 쉽게 배우고 사용할 수 있으며, 향수 다시 사용하고 싶은 정도를 나타낸다."
   ]
  },
  {
   "cell_type": "markdown",
   "metadata": {},
   "source": [
    "### 5) 이식성(Portablility)\n",
    "- 소프트웨어가 다른 환경에서도 얼마나 쉽게 적용할 수 있는지 정도를 나타낸다."
   ]
  },
  {
   "cell_type": "markdown",
   "metadata": {},
   "source": [
    "<h2 style=\"color:MediumSeaGreen;\"><strong>Section 14. UI 상세 설계</strong></h2>\n",
    "<hr>\n",
    "<br>\n",
    "\n",
    "### 1) UI 요소\n",
    "- 체크 박스(Check Box)\n",
    "    - 여러 개의 선택 상황에서 1개 이상의 값을 선택할 수 있는 버튼\n",
    "\n",
    "- 라디오 버튼(Radio Button)\n",
    "    - 여러 항목 중 하나만 선택할 수 있는 버튼\n",
    "\n",
    "- 텍스트 박스(Text Box)\n",
    "    - 사용자가 데이터를 입력하고 수정할 수 있는 상자\n",
    "\n",
    "- 콤보 상자(Combo Box)\n",
    "    - 이미 지정된 목록 상자에 내용을 표시하여 선택하거나 새로 입력할 수 있는 상자\n",
    "\n",
    "- 목록 상자(List Box)\n",
    "    - 콤보 상자와 같이 목록을 표시하지만 새로운 내용을 입력할 수 없는 상자"
   ]
  },
  {
   "cell_type": "markdown",
   "metadata": {},
   "source": [
    "<h2 style=\"color:MediumSeaGreen;\"><strong>Section 15. HCI / UX / 감성공학</strong></h2>\n",
    "<hr>\n",
    "<br>\n",
    "\n",
    "### 1) HCI (Human Computer Interaction or interface)\n",
    "- 사람이 시스템을 보다 편리하고 안전하게 사용할 수 있도록 연구하고 개발하는 학문으로, 최종 목표는 시스템을 사용하는데 있어 최적의 사용자 경험을 만드는 것이다."
   ]
  },
  {
   "cell_type": "markdown",
   "metadata": {},
   "source": [
    "### 2) UX (User Experience)\n",
    "- 사용자가 시스템이나 서비스를 이용하면서 느끼고 생각하게 되는 총체적인 경험을 말한다.\n",
    "- 단순히 기능이나 정차상의 만족뿐만 아니라 사용자가 참여, 사용, 관찰하고, 상호 교감을 통해서 알 수 있는 가치있는 경험을 말한다."
   ]
  },
  {
   "cell_type": "markdown",
   "metadata": {},
   "source": [
    "### 3) UX의 특징\n",
    "- 주관성(Subjectivity)\n",
    "    - 사람들의 개인적, 신체적, 인지적 특성에 따라 다르므로 주관적이다.\n",
    "\n",
    "- 정황성(Contextuality)\n",
    "    - 경험이 일어나는 상황 또는 주변 환경에 영향을 받는다.\n",
    "\n",
    "- 총체성(Holistic)\n",
    "    - 개인이 느끼는 총체적인 심리적, 감성적인 결과이다."
   ]
  },
  {
   "cell_type": "markdown",
   "metadata": {},
   "source": [
    "### 4) 감성공학\n",
    "- 제품이나 작업환경을 사용자의 감성에 알맞도록 설계 및 제작하는 기술로, 인문사회과학, 공학, 의학 등 여러 분야의 학문이 공존하는 종합 과학이다."
   ]
  },
  {
   "cell_type": "markdown",
   "metadata": {},
   "source": []
  }
 ],
 "metadata": {
  "language_info": {
   "name": "python"
  }
 },
 "nbformat": 4,
 "nbformat_minor": 2
}
