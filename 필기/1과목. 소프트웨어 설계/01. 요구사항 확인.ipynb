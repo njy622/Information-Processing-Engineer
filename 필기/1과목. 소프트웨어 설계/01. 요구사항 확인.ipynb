{
 "cells": [
  {
   "cell_type": "markdown",
   "metadata": {},
   "source": [
    "# 1과목. 소프트웨어 설계\n",
    "\n",
    "## 1장 요구사항 확인\n"
   ]
  },
  {
   "cell_type": "markdown",
   "metadata": {},
   "source": [
    "<h2 style=\"color:MediumSeaGreen;\"><strong>Section 1. 소프트웨어 생명 주기</strong></h2>\n",
    "<hr>\n",
    "<br>\n",
    "\n",
    "### 1) 소프트웨어 공학\n",
    "- 소프트웨어의 위기를 극복하기 위한 방안으로 연구된 학문이다.\n",
    "- 소프트웨어의 개발, 운용, 유지보수에 대한 체계적인 접근 방법이다.\n",
    "- 소프트웨어의 품질과 생산성을 향상시킬 목적으로 한다.\n",
    "- 경제적인 비용을 들여 신뢰성 높은 소프트웨어를 개발하기 위해 공학적 원리를 정립하고 이를 적용하는 것이다."
   ]
  },
  {
   "cell_type": "markdown",
   "metadata": {},
   "source": [
    "### 2) 소프트웨어 공학의 기본 원칙\n",
    "- 현대적인 프로그래밍 기술을 계속적으로 적용해야 한다.\n",
    "- 개발된 소프트웨어의 품질이 유지되도록 지속적으로 검증해야 한다.\n",
    "- 소프트웨어 개발 관련 사 항 및 결과에 대한 명확한 기록을 유지해야 한다."
   ]
  },
  {
   "cell_type": "markdown",
   "metadata": {},
   "source": [
    "### 3) 폭포수 모형(Waterfall Model)\n",
    "- 이전 단계로 돌아갈 수 없다는 전제하에 각 단계를 확실히 매듭짓고 그 결과를 철저하게 검토하여 승인 과정을 거친 후에 다음 단계를 진행하는 개발 방법론이다.\n",
    "- 보헴(Boehm)이 제시한 고전적 생명 주기 모형이다.\n",
    "- 가장 오래되고 가장 폭넓게 사용된 전통적인 소프트웨어 생명 주기 모형이다.\n",
    "- 개발 과정에서 발생하는 요구사항을 반영하기 어렵다."
   ]
  },
  {
   "cell_type": "markdown",
   "metadata": {},
   "source": [
    "\n",
    "### 4) 프로토타입 모형(Prototype Model, 원형 모형)\n",
    "- 사용자의 요구사항을 정확히 파악하기 위해 실제 개발될 소프트웨어 대한 견본(시제)품(Protorype)을 만들어 최종 결과물을 예측하는 모형이다.\n",
    "- 시제품은 의뢰자나 개발자 모두에게 공동의 참조 모델이 된다.\n",
    "- 시스템의 일부 혹은 시스템의 모형을 만드는 과정으로서 요구된 소프트웨어를 구현하는데, 이는 추후 구현 단계에서 사용될 골격 코드가 된다.\n",
    "- 새로운 요구 사항이 도출될 때마다 이를 반영한 프로토타입을 새롭게 만들면서 소프트웨어를 구현하는 방법이다.\n",
    "- 단기간 제작 목적으로 인하여 비효율적인 언어나 알고리즘이 사용될 수 있다."
   ]
  },
  {
   "cell_type": "markdown",
   "metadata": {},
   "source": [
    "### 5) 나선형 모형(Spiral Model, 점진적 모형)\n",
    "- 보헴(Boehm)이 제안한 것으로, 폭포수 모형과 프로토타입 모형의 장점에 위험 분석 기능을 추가한 모형이다.\n",
    "- 나선을 따라 돌듯이 여러 번의 소프트웨어 개발 과정을 거쳐 점진적으로 완벽한 최종 소프트웨어를 개발하는 것이다.\n",
    "- '계획 수립 → 위험 분석 → 개발 및 검증 → 고객평가' 과정이 반복적으로 수행된다.\n",
    "- 핵심 기술에 문제가 있거나 사용자의 요구사항이 이해하기 어려운 경우에 적합한 모델이다."
   ]
  },
  {
   "cell_type": "markdown",
   "metadata": {},
   "source": [
    "### 6) 애자일 모형(Agile Model)\n",
    "- 고객의 요구사항 변화에 유연하게 대응할 수 있도록 일정한 주기를 반복하면서 개발 과정을 진행한다.\n",
    "- 애자일 모형을 기반으로 하는 소프트웨어 개발 모형\n",
    "    - 스크럼 (Scrum)\n",
    "    - XP (eXtreme Programming)\n",
    "    - 칸반 (KanBban)\n",
    "    - 린 (Lean)\n",
    "    - 크리스탈 (Crystal)\n",
    "    - ASD (Adaptive Software Development)\n",
    "    - 기능 중심 개발 (FDD; Feature Driven Development)\n",
    "    - DSDM (Dynamic System Development Method)\n",
    "    - DAD (Disciplined Agile Delivery) 등"
   ]
  },
  {
   "cell_type": "markdown",
   "metadata": {},
   "source": [
    "### 7) 애자일 개발 4가지 핵심 가치\n",
    "- 프로세스와 도구보다는 개인과 상호작용에 더 가치를 둔다.\n",
    "- 방대한 문서보다는 실행되는 SW에 더 가치를 둔다.\n",
    "- 계약 협상보다는 고객과 협업에 더 가치를 둔다.\n",
    "- 계획에 따르기 보다는 변화에 반응하는 것에 더 가치를 둔다."
   ]
  },
  {
   "cell_type": "markdown",
   "metadata": {},
   "source": [
    "<br><br>\n",
    "<h2 style=\"color:MediumSeaGreen;\"><strong>Section 2. 스크럼 (Scrum) 기법</strong></h2>\n",
    "<hr>"
   ]
  },
  {
   "cell_type": "markdown",
   "metadata": {},
   "source": [
    "### 1) 스크럼(Scrum) 팀\n",
    "- 제품 책임자 (PO; Product Owner)\n",
    "    - 이해관계좌들 중 개발될 제품에 대한 이해도가 높고, 요구사항을 책임지고 의사 결정할 사람으로 선정하는데, 주로 개발 의뢰자나 사용자가 담당한다.\n",
    "    - 이해관계자들의 의견을 종합하여 제품에 대한 요구사항을 작성하는 주체다.\n",
    "    - 요구사항이 담긴 백로그(Backlog)를 작성하고 백로그에 대한 우선순위를 지정한다.\n",
    "\n",
    "- 스크럼 마스터 (SM; Scrum Master)\n",
    "    - 스크럼 팀이 스크럼을 잘 수행할 수 있도록 객관적인 시각에서 조언을 해주는 가이드 역할을 수행함\n",
    "\n",
    "- 개발팀 (DT; Development Team)\n",
    "    - 제품 책임자와 스크럼 마스터를 제외한 모든 팀원으로, 개발자 외에도 디자이너, 테스터 등 제품 개발ㅇ르 위해 참여하는 모든 사람이 대상이 됨"
   ]
  },
  {
   "cell_type": "markdown",
   "metadata": {},
   "source": [
    " ### 2) 스크럼 개발 프로세스\n",
    "- 제품 백로그 (Product Backlog)\n",
    "    - 제품 개발에 필요한 모든 요구사항(User Story)을 우선순위에 따라 나열한 목록\n",
    "    \n",
    "- 스프린트 계획 회의 (Sprint Planning Meeting)\n",
    "    - 제품 백로그 중 이번 스프린트에서 수행할 작업을 대상으로 단기 일정을 수립하는 것\n",
    "\n",
    "- 스프린트 (Sprint)\n",
    "    - 실제 개발 작업을 진행하는 과정으로, 보통 2~4주 정도의 기간 내에서 진행함\n",
    "\n",
    "- 일일 스크럼 회의 (Daily Scrum Meeting)\n",
    "    - 모든 팀원이 매일 약속된 시간에 약 15분 정도의 짧은 시간동안 진행상황을 점검함\n",
    "\n",
    "- 스프린트 검토 회의 (Sprint Review)\n",
    "    - 부분 또는 전체 완성 제품이 요구사항에 잘 부합되는지 사용자가 포함된 참석자 앞에서 테스팅을 수행함\n",
    "\n",
    "- 스프린트 회고 (Sprint Retrospective)\n",
    "    - 스프린트 주기를 되돌아보며 정해놓은 규칙을 잘 준수했는지, 개선할 점은 없는지 등을 확인하고 기록함"
   ]
  },
  {
   "cell_type": "markdown",
   "metadata": {},
   "source": [
    "<br><br>\n",
    "<h2 style=\"color:MediumSeaGreen;\"><strong>Section 3. XP (eXtreme Programming) 기법</strong></h2>\n",
    "<hr>"
   ]
  },
  {
   "cell_type": "markdown",
   "metadata": {},
   "source": [
    "### 1) XP (eXtreme Programming)의 개요\n",
    "- 수시로 발생하는 고객의 요구사항에 유연하게 대응하기 위해 고객의 참여와 개발 과정의 반복을 극대화하여 개발 생산성을 향상시키는 방법이다.\n",
    "- 대표적인 애자일 개발 방법론 중 하나이다.\n",
    "- 짧고 반복적인 개발 주기, 단순한 설계, 고객의 적극적인 참여를 통해 소프트웨어를 빠르게 개발하는 것을 목적으로 한다.\n",
    "- 자동화된 테스팅 도구를 사용하여 테스트를 지속적으로 수행한다."
   ]
  },
  {
   "cell_type": "markdown",
   "metadata": {},
   "source": [
    "### 2) XP의 핵심 가치\n",
    "- 의사소통 (Communication)\n",
    "- 단순성 (Simplicity)\n",
    "- 용기 (Courage)\n",
    "- 존중 (Respect)\n",
    "- 피드백 (Feedback)"
   ]
  },
  {
   "cell_type": "markdown",
   "metadata": {},
   "source": [
    "### 3) XP 개발 프로세스\n",
    "- 사용자 스토리 (User Story)\n",
    "    - 고객의 요구사항을 간단한 시나리오로 표현한 것\n",
    "\n",
    "- 릴리즈 계획 수립 (Release Planning)\n",
    "    - 몇 개의 스토리가 적용되어 부분적으로 기능이 완료된 제품을 제공하는 것을 릴리즈라고 함\n",
    "\n",
    "- 스파이크 (Spike)\n",
    "    - 요구사항의 신뢰성을 높이고 기술 문제에 대한 위험을 감소시키기 위해 별도로 만드는 간단한 프로그램\n",
    "    \n",
    "- 이터레이션 (Iteration)\n",
    "    - 하나의 릴리즈를 더 세분화한 단위를 이터레이션(Iteration)이라고 함\n",
    "\n",
    "- 승인 검사 (Acceptance Test, 인수 테스트)\n",
    "    - 하나의 이터레이션 안에서 계획된 릴리즈 단위의 부분 완료 제품이 구현되면 수행하는 테스트\n",
    "\n",
    "- 소규모 릴리즈 (Small Release)\n",
    "    - 릴리즈를 소규모로 하게 되면, 고객의 반응을 기능별로 확인할 수 있어, 고객의 요구사항에 좀 더 유연하게 대응할 수 있음"
   ]
  },
  {
   "cell_type": "markdown",
   "metadata": {},
   "source": [
    "### 4) XP의 주요 실천 방법\n",
    "- Pair Programming (짝 프로그래밍)\n",
    "    - 다른 사람과 함께 프로그래밍을 수행함으로써 개발에 대한 책임을 공동으로 나눠 갖는 환경을 조성함\n",
    "\n",
    "- Collective Ownership (공동 코드 소유)\n",
    "    - 개발 코드에 대한 권한과 책임을 공동으로 소유함\n",
    "\n",
    "- Continuous Integration (계속적인 통합)\n",
    "    - 모듈 단위로 나눠서 개발된 코드들은 하나의 작업이 마무리될 때마다 지속적으로 통합됨\n",
    "\n",
    "- Refactoring (리팩토링)\n",
    "    - 프로그램 기능의 변경 없이, 단순화, 유연성 강화 등을 통해 시스템의 내부 구조를 재구성함"
   ]
  },
  {
   "cell_type": "markdown",
   "metadata": {},
   "source": [
    "<br><br>\n",
    "<h2 style=\"color:MediumSeaGreen;\"><strong>Section 4. 현행 시스템 파악</strong></h2>\n",
    "<hr>"
   ]
  },
  {
   "cell_type": "markdown",
   "metadata": {},
   "source": [
    "### 1) 현행 시스템 파악 절차\n",
    "- 1단계 : 시스템 구성, 시스템 기능, 시스템 인터페이스 파악\n",
    "- 2단계 : 아키텍처 구성, 소프트웨어(DBMS, 운영체제 등) 구성 파악\n",
    "- 3단계 : 하드웨어 구성, 네트워크 구성 파악"
   ]
  },
  {
   "cell_type": "markdown",
   "metadata": {},
   "source": [
    "<br><br>\n",
    "<h2 style=\"color:MediumSeaGreen;\"><strong>Section 5. 개발 기술 환경 파악</strong></h2>\n",
    "<hr>\n"
   ]
  },
  {
   "cell_type": "markdown",
   "metadata": {},
   "source": [
    "### 1) DBMS 분석 시 고려사항\n",
    "- 가용성\n",
    "- 성능\n",
    "- 기술 지원\n",
    "- 상호 호환성\n",
    "- 구축 비용"
   ]
  },
  {
   "cell_type": "markdown",
   "metadata": {},
   "source": [
    "### 2) WAS (Web Application Server)\n",
    "- 정적인 콘텐츠 처리를 하는 웹 서버와 달리 사용자의 요구에 따라 변하는 동적인 콘텐츠를 처리하기 위해 사용되는 미들웨어\n",
    "- 종류 : Tomcat, ClassFish, JBoss, Jetty, JEUS, Resin WebLogic, WebSphere 등"
   ]
  },
  {
   "cell_type": "markdown",
   "metadata": {},
   "source": [
    "<br><br>\n",
    "<h2 style=\"color:MediumSeaGreen;\"><strong>Section 6. 요구사항 정의</strong></h2>\n",
    "<hr>"
   ]
  },
  {
   "cell_type": "markdown",
   "metadata": {},
   "source": [
    "### 1) 기능 요구사항\n",
    "- 시스템이 무엇을 하는지, 어떤 기능을 하는지에 대한 사항\n",
    "- 시스템의 입력이나 출력으로 무엇이 포함되어야 하는지, 시스템이 어떤 데이터를 저장하거나 연산을 수행해야 하는지에 대한 사항\n",
    "- 시스템이 반드시 수행해야 하는 기능\n",
    "- 사용자가 시스템을 통해 제공받기를 원하는 기능"
   ]
  },
  {
   "cell_type": "markdown",
   "metadata": {},
   "source": [
    "### 2) 비기능 요구사항\n",
    "- 성능 요구사항\n",
    "    - 처리속도 및 시간, 처리량 등의 요구사항\n",
    "\n",
    "- 보안 요구사항\n",
    "    - 시스템의 데이터 및 기능, 운영 접근을 통제하기 위한 요구사항\n",
    "\n",
    "- 품질 요구사항\n",
    "    - 품질 평가 대상에 대한 요구사항"
   ]
  },
  {
   "cell_type": "markdown",
   "metadata": {},
   "source": [
    "### 3) 요구사항 개발 프로세스\n",
    "<meta charset=\"utf-8\">\n",
    "<meta name=\"viewport\" content=\"width=device-width, initial-scale=1\">\n",
    "<link href=\"https://cdn.jsdelivr.net/npm/bootstrap@5.3.3/dist/css/bootstrap.min.css\" rel=\"stylesheet\">\n",
    "<script src=\"https://cdn.jsdelivr.net/npm/bootstrap@5.3.3/dist/js/bootstrap.bundle.min.js\"></script>\n",
    "<table class=\"border-less ms-5\" style=\"text-align:center;\">\n",
    "<tr>\n",
    "<td><strong ><div class=\"container\" style=\"text-align:center; vertical-align:middle; display:table-cell; width : 100px; height: 100px; border: 1px solid black; object-fit: cover;\">도출</strong><br>(Elicitation)</td>\n",
    "<td><strong>→</strong></td>\n",
    "<td><strong ><div class=\"container\" style=\"text-align:center; vertical-align: middle; display:table-cell; width : 100px; height: 100px; border: 1px solid black; object-fit: cover;\">분석</strong><br>(Analysis)</td>\n",
    "<td><strong>→</strong></td>\n",
    "<td><strong ><div class=\"container\" style=\"text-align:center; vertical-align: middle; display:table-cell; width : 100px; height: 100px; border: 1px solid black; object-fit: cover;\">명세</strong><br>(Specification)</td>\n",
    "<td><strong>→</strong></td>\n",
    "<td><strong ><div class=\"container\" style=\"text-align:center; vertical-align: middle; display:table-cell; width : 100px; height: 100px; border: 1px solid black; object-fit: cover;\">확인</strong><br>(Validation)</td>\n",
    "</tr>\n",
    "</table>"
   ]
  },
  {
   "cell_type": "markdown",
   "metadata": {},
   "source": [
    "### 4) 요구사항 도출(Requirement Elicitation, 요구사항 수집)\n",
    "- 시스템, 사용자 그리고 시스템 개발에 관련된 사람들이 서로 의견을 교환하여 요구사항이 어디에 있는지, 어떻게 수집할 것인지를 식별하고 이해하는 과정이다.\n",
    "- 요구사항 도출 기법\n",
    "    - 청취와 인터뷰, 설문, 브레인스토밍, 워크샵, 프로토타이핑, 유스케이스 등"
   ]
  },
  {
   "cell_type": "markdown",
   "metadata": {},
   "source": [
    "### 5) 요구사항 명세 기법\n",
    "\n",
    "<meta name=\"viewport\" content=\"width=device-width, initial-scale=1\">\n",
    "<link href=\"https://cdn.jsdelivr.net/npm/bootstrap@5.3.3/dist/css/bootstrap.min.css\" rel=\"stylesheet\">\n",
    "<script src=\"https://cdn.jsdelivr.net/npm/bootstrap@5.3.3/dist/js/bootstrap.bundle.min.js\"></script>\n",
    "<table>\n",
    "<thead>\n",
    "<th width=\"10%\" style=\"text-align:center;\">구분</th>\n",
    "<th width=\"45%\" style=\"text-align:center;\">정형 명세 기법</th>\n",
    "<th width=\"45%\" style=\"text-align:center;\">비정형 명세 기법</th>\n",
    "</thead>\n",
    "<tbody>\n",
    "<tr>\n",
    "<td style=\"text-align:center;\">기법</td>\n",
    "<td>\n",
    "<li>수학적 원리 기반</li>\n",
    "<li>모델 기반</li>\n",
    "</td>\n",
    "<td>상태/기능/객체 중심</td>\n",
    "</tr>\n",
    "<tr>\n",
    "<td style=\"text-align:center;\">작성<br>방법</td>\n",
    "<td>수학적 기호, 정형화된 표기법</td>\n",
    "<td>\n",
    "<li>자연어를 기반으로 작성</li>\n",
    "<li>다이어그램으로 작성</li>\n",
    "</td>\n",
    "</tr>\n",
    "<tr>\n",
    "<td style=\"text-align:center;\">특징</td>\n",
    "<td>요구사항을 정확하고 간결하게 표현</td>\n",
    "<td>\n",
    "<li>일관성이 떨어짐</li>\n",
    "<li>의사소통이 용이함</li>\n",
    "</td>\n",
    "</tr>\n",
    "<tr>\n",
    "<td style=\"text-align:center;\">종류</td>\n",
    "<td>VDM, Z, Petri-net, CSP 등</td>\n",
    "<td>FSM, Decision,Table, ER 모델링,<br> State Chart(SADT) 등</td>\n",
    "</tr>\n",
    "</tbody>\n",
    "</table>"
   ]
  },
  {
   "cell_type": "markdown",
   "metadata": {},
   "source": [
    "### 6) 요구사항 확인 (요구사항 검증)\n",
    "- 분석가가 요구사항을 정확하게 이해한 후 요구사항 명세서를 작성했는지 확인(Validation)하는 것이 필요하다.\n",
    "- 요구사항이 실제 요구를 반영하는지, 서로 상충되는 요구사항은 없는지 등을 점검한다.\n",
    "- 개발이 완료된 후 문제가 발견되면 재작업 비용이 발생할 수 있으므로 요구사항 검증은 매우 중요하다.\n",
    "- 요구사항 검증 과정을 통해 모든 문제를 확인할 수 있는 것은 아니다."
   ]
  },
  {
   "cell_type": "markdown",
   "metadata": {},
   "source": [
    "<br><br>\n",
    "<h2 style=\"color:MediumSeaGreen;\"><strong>Section 7. 요구사항 분석</strong></h2>\n",
    "<hr>"
   ]
  },
  {
   "cell_type": "markdown",
   "metadata": {},
   "source": [
    "### 1) 요구사항 분석의 개요\n",
    "- 소프트웨어 개발의 실제적인 첫 단계로 개발 대상에 대한 사용자의 요구사항을 이해하고 문서화(명세화)하는 활동을 의미한다.\n",
    "- 사용자의 요구를 정확하게 추출하여, 목표를 정하고, 어떤 방식으로 해결할 것인지를 결정한다.\n",
    "- 사용자 요구의 타당설을 조사하고 비용과 일정에 대한 제약을 설정한다.\n",
    "- 개발 대상에 대한 사용자의 요구사항 중 명확하지 않거나 모호하여 이해되지 않는 부분을 발견하고 이를 걸러내기 위한 과정이다.\n",
    "- 사용자의 요구사항은 예외가 많고 지속적으로 변하므로 열거와 구조화가 어렵다.\n",
    "- 내용이 중복되거나 하나로 통합되어야 하는 등 서로 상충되는 요구사항이 있으면 이를 중재하는 과정이다.\n",
    "- 요구사항 분석을 위해 UML(Unified Modeling Language), 자료 흐름도(DFD), 자료 사전(DD), 소단위 명세서(Mini-Spec), 개체 관계도(ERD), 상태 전이도(STD), 제어 명세서 등의 도구를 이용한다."
   ]
  },
  {
   "cell_type": "markdown",
   "metadata": {},
   "source": [
    "### 2) 자료 흐름도의 구성 요소\n",
    "<header>\n",
    "<meta charset=\"utf-8\">\n",
    "<meta name=\"viewport\" content=\"width=device-width, initial-scale=1\">\n",
    "<link href=\"https://cdn.jsdelivr.net/npm/bootstrap@5.3.3/dist/css/bootstrap.min.css\" rel=\"stylesheet\">\n",
    "<script src=\"https://cdn.jsdelivr.net/npm/bootstrap@5.3.3/dist/js/bootstrap.bundle.min.js\"></script>\n",
    "</header>\n",
    "<table  style=\"text-align:center;\">\n",
    "<thead>\n",
    "<th style=\"text-align:center;\">기호</th>\n",
    "<th style=\"text-align:center;\">표기법</th>\n",
    "</thead>\n",
    "<tbody>\n",
    "<tr>\n",
    "<td>프로세스(Process)</td>\n",
    "<td>\n",
    "<div class=\"border\" \n",
    "style=\"text-align:center; line-height:100px; border-radius:50%; \n",
    "width : 100px; height : 100px; border: 1px solid black; object-fit: cover;\">물품 확인</div>\n",
    "</td>\n",
    "</tr>\n",
    "<tr>\n",
    "<td>자료 흐름(Data Flow)</td>\n",
    "<td>\n",
    "<div>물품 코드<br> -----------> </div>\n",
    "</td>\n",
    "</tr>\n",
    "<tr>\n",
    "<td>자료 저장소(Data Store)</td>\n",
    "<td>\n",
    "<div><hr style=\"margin-bottom:-1%;\">물품 대장<hr style=\"margin-top:-1%;\"></div>\n",
    "</td>\n",
    "</tr>\n",
    "<tr>\n",
    "<td>단말(Terminator)</td>\n",
    "<td>\n",
    "<div class=\"container\" style=\"text-align:center; width : 100px; border: 1px solid black; object-fit: cover;\">\n",
    "공장\n",
    "</div>\n",
    "</td>\n",
    "</tr>\n",
    "</tbody>\n",
    "</table>"
   ]
  },
  {
   "cell_type": "markdown",
   "metadata": {},
   "source": [
    "### 3) 자료 흐름도 작성 지침\n",
    "- 자료 흐름은 처리(Process)를 거쳐 변환될 때마다 새로운 이름을 부여한다.\n",
    "- 어떤 처리(Process)가 출력 자료를 산출하기 위해서는 반드시 입력 자료가 발생해야 한다.\n",
    "- 상위 단계의 처리(Process)와 하위 자료 흐름도의 자료 흐름은 서로 일치되어야 한다.\n",
    "- 입력 화살표가 있다고 하여 반드시 출력 화살표가 있어야 하는 것은 아니다."
   ]
  },
  {
   "cell_type": "markdown",
   "metadata": {},
   "source": [
    "### 4) 자료 사전의 표기 기호\n",
    "\n",
    "<table>\n",
    "<thead>\n",
    "<th width=\"20%\" style=\"text-align:center;\">기호</th>\n",
    "<th width=\"80%\" style=\"text-align:center;\">의미</th>\n",
    "</thead>\n",
    "<tbody>\n",
    "<tr>\n",
    "<td>=</td>\n",
    "<td><strong>자료의 정의</strong>: ~ 로 구성되어 있다 (is composed of)</td>\n",
    "</tr>\n",
    "<tr>\n",
    "<td>+</td>\n",
    "<td><strong>자료의 연결</strong>: 그리고 (and)</td>\n",
    "</tr>\n",
    "<tr>\n",
    "<td>(  )</td>\n",
    "<td><strong>자료의 생략</strong>: 생략 가능한 자료 (Optional)</td>\n",
    "</tr>\n",
    "<tr>\n",
    "<td>[ | ]</td>\n",
    "<td><strong>자료의 선택</strong>: 또는 (or)</td>\n",
    "</tr>\n",
    "<tr>\n",
    "<td>{  }</td>\n",
    "<td><strong>자료의 반복</strong>: Iteration of</td>\n",
    "</tr>\n",
    "<tr>\n",
    "<td>*  *</td>\n",
    "<td><strong>자료의 설명</strong>: 주석 (Comment)</td>\n",
    "</tr>\n",
    "</tbody>\n",
    "</table>"
   ]
  },
  {
   "cell_type": "markdown",
   "metadata": {},
   "source": [
    "<br><br>\n",
    "<h2 style=\"color:MediumSeaGreen;\"><strong>Section 8. 요구사항 분석 CASE와 HIPO</strong></h2>\n",
    "<hr>"
   ]
  },
  {
   "cell_type": "markdown",
   "metadata": {},
   "source": [
    "### 1) SADT\n",
    "- SoftTech 사에서 개발한 구조적 분석 및 설계 도구이다.\n",
    "- 블록 다이어그램을 채택한 자동화 도구이다."
   ]
  },
  {
   "cell_type": "markdown",
   "metadata": {},
   "source": [
    "### 2) HIPO\n",
    "- 시스템의 분석 및 설계나 문서화할 때 사용되는 기법으로, 시스템 실행 과정인 입력, 처리, 출력의 기능을 나타낸다.\n",
    "- 하향식 소프트웨어 개발을 위한 문서화 도구이다.\n",
    "- 기호, 도표 등을 사용하므로 보기 쉽고 이해하기도 쉽다.\n",
    "- 기능과 자료의 의존 관계를 동시에 표현할 수 있다.\n",
    "- 시스템의 기능을 여러 개의 고유 모듈들로 분할하여 이들 간의 인터페이스를 계층 구조로 표현한 것을 HIPO Chart라고 한다.\n",
    "- HIPO Chart의 종류\n",
    "    - 가시적 도표(Visual Table of Contents), 총체적 도표(Overview Diagram), 세부적 도표(Dtail Diagram)"
   ]
  },
  {
   "cell_type": "markdown",
   "metadata": {},
   "source": [
    "<br><br>\n",
    "<h2 style=\"color:MediumSeaGreen;\"><strong>Section 9. UML (Unified Modeling Language)</strong></h2>\n",
    "<hr>"
   ]
  },
  {
   "cell_type": "markdown",
   "metadata": {},
   "source": [
    "### 1) UML의 개요\n",
    "- 시스템 분석, 설계, 구현 등 시스템 개발 과정에서 시스템 개발자와 고객 또는 개발자 상호간의 의사소통이 원활하게 이루어지도록 표준화한 대표적인 객체지향 모델링 언어이다.\n",
    "- 구성 요소\n",
    "    - 사물(Things), 관계(Relationships), 다이어그램(Diagram)"
   ]
  },
  {
   "cell_type": "markdown",
   "metadata": {},
   "source": [
    "### 2) 사물(Things)\n",
    "- 모델을 구성하는 가장 중요한 기본 요소로, 다이어그램 안에서 관계가 형성될 수 있는 대상들을 말한다.\n",
    "- 종류\n",
    "    - 구조 사물(Structural Things)\n",
    "    - 행동 사물(Behavioral Things)\n",
    "    - 그룹 사물(Grouping Things)\n",
    "    - 주해 사물(Annotation Things)"
   ]
  },
  {
   "cell_type": "markdown",
   "metadata": {},
   "source": [
    "### 3) 의존(Dependency) 관계\n",
    "- 연관 관계와 같이 사물 사이에 서로 연관은 있으나 필요에 의해 서로에게 영향을 주는 짧은 시간 동안만 연관을 유지하는 관계를 표현한다.\n",
    "- 일반적으로 한 클래스가 다른 클래스를 오퍼레이션의 매개 변수로 사용하는 경우에 나타나는 관계이다."
   ]
  },
  {
   "cell_type": "markdown",
   "metadata": {},
   "source": [
    "### 4) 실체화(Realization) 관계\n",
    "- 사물이 할 수 있거나 해야 하는 기능(오퍼레이션, 인터페이스)으로 서로를 그룹화 할 수 있는 관계를 표현한다.\n",
    "- 한 사물이 다른 사물에게 오퍼레이션을 수행하도록 지정하는 의미적 관계이다."
   ]
  },
  {
   "cell_type": "markdown",
   "metadata": {},
   "source": [
    "### 5) 일반화 (Generalization) 관계\n",
    "- 하나의 사물이 다른 사물에 비해 더 일반적인지 구체적인지를 표현한다.\n",
    "- 예를 들어 차는 버스, 트럭, 택시보다 일반적인 개념이고 반대로 버스, 트럭, 택시는 차보다 구체적인 개념이다."
   ]
  },
  {
   "cell_type": "markdown",
   "metadata": {},
   "source": [
    "### 6) 구조적(정적) 다이어그램 종류\n",
    "- 클래스 다이어그램\n",
    "- 객체(Object) 다이어그램\n",
    "- 컴포넌트 다이어그램\n",
    "- 배치(Deployment) 다이어그램\n",
    "- 복합체 구조(Composite Structure) 다이어그램\n",
    "- 패키지 다이어그램"
   ]
  },
  {
   "cell_type": "markdown",
   "metadata": {},
   "source": [
    "### 7) 행위(동적) 다이어그램의 종류\n",
    "- 유스케이스 다이어그램\n",
    "- 순차(Sequence) 다이어그램\n",
    "- 커뮤니케이션 다이어그램\n",
    "- 상태(State) 다이어그램\n",
    "- 활동(Activity) 다이어그램\n",
    "- 상호작용 개요(Interaction Overview) 다이어그램\n",
    "- 타이밍 다이어그램"
   ]
  },
  {
   "cell_type": "markdown",
   "metadata": {},
   "source": [
    "### 8) 상태(State) 다이어그램\n",
    "- 하나의 객체가 자신이 속한 클래스의 상태 변화 혹은 다른 객체와의 상호작용에 따라 상태가 어떻게 변화하는지를 표현한다.\n",
    "- 객체들 사이에서 발생하는 이벤트(event)에 의한 객체들의 상태 변화를 그림으로 표현한다.\n",
    "- 럼바우(Rumbaugh) 객체지향 분석 기법에서 동적 모델링에 활용된다."
   ]
  },
  {
   "cell_type": "markdown",
   "metadata": {},
   "source": [
    "### 9) 활동(Activity) 다이어그램\n",
    "- 시스템이 어떤 기능을 수행하는지 객체의 처리 로직이나 조건에 따른 처리의 흐름을 순서에 따라 표현한다.\n",
    "- 오퍼레이션이나 처리과정이 수행되는 동안 일어나는 일들을 단계적으로 표현한다."
   ]
  },
  {
   "cell_type": "markdown",
   "metadata": {},
   "source": [
    "### 10) 스테레오 타입(Stereotype)\n",
    "- UML에서 표현하는 기본 기능 외에 추가적인 기능을 표현하기 위해 사용한다.\n",
    "- 길러멧(Guilemet)이라고 부르는 결화살괄호(<<>>) 사이에 표현할 형태를 기술한다."
   ]
  },
  {
   "cell_type": "markdown",
   "metadata": {},
   "source": [
    "<br><br>\n",
    "<h2 style=\"color:MediumSeaGreen;\"><strong>Section 10. 주요 UML 다이어그램</strong></h2>\n",
    "<hr>"
   ]
  },
  {
   "cell_type": "markdown",
   "metadata": {},
   "source": [
    "### 1) 유스케이스 다이어그램의 구성 요소\n",
    "- 시스템/시스템 범위\n",
    "    - 시스템 내부에서 수행되는 기능들을 외부 시스템과 구분하기 위해 시스템 내부의 유스케이스들을 사각형으로 묶어 시스템의 범위를 표현함\n",
    "    \n",
    "- 액터\n",
    "    - 시스템과 상호작용을 하는 모든 외부 요소로, 사람이나 외부 시스템을 의미함\n",
    "    - 주액터\n",
    "        - 시스템을 사용함으로써 이득을 얻는 대상으로, 주로 사람이 해당함\n",
    "    - 부액터(시스템 액터)\n",
    "        - 주액터의 목적 달성을 위해 시스템에 서비스를 제공하는 외부 시스템으로, 조직이나 기관 등이 될 수 있음\n",
    "\n",
    "- 유스케이스\n",
    "    - 사용자가 보는 관점에서 시스템이 액터에게 제공하는 서비스 또는 기능을 표현한 것\n",
    "\n",
    "- 관계(Relationship)\n",
    "    - 유스케이스 다이어그램에서 관계는 액터와 유스케이스, 유스케이스와 유스케이스 사이에서 나타날 수 있으며, 연관 관계, 포함 관계, 확장 관꼐, 일반화 관계를 표현할 수 있음"
   ]
  },
  {
   "cell_type": "markdown",
   "metadata": {},
   "source": [
    "### 2) 유스케이스 확장 관계\n",
    "- 유스케이스가 특정 조건에 부합되어 유스케이스의 기능이 확장될 때 원래의 유스케이스와 확장된 유스케이스와의 관계이다."
   ]
  },
  {
   "cell_type": "markdown",
   "metadata": {},
   "source": [
    "### 3) 클래스 다이어그램 - 오퍼레이션(Operation)\n",
    "- 클래스가 수행할 수 있는 동작으로, 함수(메소드, Method)라고도 한다."
   ]
  },
  {
   "cell_type": "markdown",
   "metadata": {},
   "source": [
    "### 4) 순차 다이어그램의 개요\n",
    "- 시스템이나 객체들이 메세지를 주고받으며 시간의 흐름에 따라 상호작용하는 과정을 액터, 객체, 메세지 등의 요소를 사용하여 그림으로 표현한 것이다.\n",
    "- 순차 다이어그램은 시스템이나 객체들의 상호 작용 과정에서 주고받는 메세지를 표현한다.\n",
    "- 순차 다이어그램에서 수직 방향은 시간의 흐름을 나타낸다."
   ]
  },
  {
   "cell_type": "markdown",
   "metadata": {},
   "source": [
    "### 5) 순차 다이어그램의 구성 요소\n",
    "- 액터(Actor)\n",
    "- 객체(Object)\n",
    "- 생명선(Lifeline)\n",
    "- 실행 상자(Active Box)\n",
    "- 메세지(Message)\n",
    "- 회귀 메세지(Reply/Return Message)\n",
    "- 제어 블록(Loop)"
   ]
  },
  {
   "cell_type": "markdown",
   "metadata": {},
   "source": []
  }
 ],
 "metadata": {
  "language_info": {
   "name": "python"
  }
 },
 "nbformat": 4,
 "nbformat_minor": 2
}
